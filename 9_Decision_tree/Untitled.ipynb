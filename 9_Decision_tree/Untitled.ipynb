{
 "cells": [
  {
   "cell_type": "markdown",
   "id": "9f9fa18d-b36a-4222-b346-06481b2a4597",
   "metadata": {},
   "source": [
    "**Exercise: Build decision tree model to predict survival based on certain parameters**\n",
    "\n",
    "In this file using following columns build a model to predict if person would survive or not,\n",
    "1. Pclass\n",
    "2. Sex\n",
    "3. Age\n",
    "4. Fare\n",
    "\n",
    "Calculate score of your model"
   ]
  },
  {
   "cell_type": "code",
   "execution_count": null,
   "id": "7e7c9c20-d0b9-481d-b4a9-419b648fc661",
   "metadata": {},
   "outputs": [],
   "source": []
  }
 ],
 "metadata": {
  "kernelspec": {
   "display_name": "Python 3 (ipykernel)",
   "language": "python",
   "name": "python3"
  },
  "language_info": {
   "codemirror_mode": {
    "name": "ipython",
    "version": 3
   },
   "file_extension": ".py",
   "mimetype": "text/x-python",
   "name": "python",
   "nbconvert_exporter": "python",
   "pygments_lexer": "ipython3",
   "version": "3.11.9"
  }
 },
 "nbformat": 4,
 "nbformat_minor": 5
}
